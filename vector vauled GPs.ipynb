{
 "cells": [
  {
   "cell_type": "code",
   "execution_count": 1,
   "metadata": {
    "collapsed": true
   },
   "outputs": [],
   "source": [
    "import GPy\n",
    "import numpy as np\n",
    "import matplotlib.pyplot as plt"
   ]
  },
  {
   "cell_type": "code",
   "execution_count": 2,
   "metadata": {
    "collapsed": true
   },
   "outputs": [],
   "source": [
    "def divFreeKern(x, y):\n",
    "    '''\n",
    "    input: \n",
    "        - x and y two row vectors in R^n.\n",
    "    output: \n",
    "        - k(x, y) divergence-free kernel R^nxn matrix.\n",
    "    '''\n",
    "    \n",
    "    n = len(x)\n",
    "    d = x - y\n",
    "    normd = -0.5 * np.sum(d**2)\n",
    "    T1 = np.exp(normd)\n",
    "    \n",
    "    In = np.eye(n, n)\n",
    "    v = np.reshape(d, (n, 1))\n",
    "    vt = np.transpose(v)\n",
    "    \n",
    "    T2 = v.dot(vt)+((n-1)-np.sum(d**2))*(In)\n",
    "    \n",
    "    return(T1*T2)"
   ]
  },
  {
   "cell_type": "code",
   "execution_count": 3,
   "metadata": {
    "collapsed": true
   },
   "outputs": [],
   "source": [
    "def covarianceMats(X, Kern):\n",
    "    '''\n",
    "    inputs:\n",
    "        - X: [x_1, x_2, ... , x_n] numpy array with points x_1 \\in R^d as row vectors. \n",
    "        - Kern: covaraince function. \n",
    "    output: \n",
    "        - Mats: list of covariance matrices sKern(x_i, x_j)\n",
    "    '''\n",
    "    k = 0\n",
    "    Mats = {}\n",
    "\n",
    "    for i, x in enumerate(X):\n",
    "        for j, y in enumerate(X):\n",
    "            Mats[k] = Kern(x, y)\n",
    "            k = k + 1\n",
    "    \n",
    "    return(Mats)"
   ]
  },
  {
   "cell_type": "code",
   "execution_count": 19,
   "metadata": {
    "collapsed": true
   },
   "outputs": [],
   "source": [
    "def kMat(Mats, X):\n",
    "    '''\n",
    "        inputs: \n",
    "            - Mats :  list of covariance matrices Kern(x_i, x_j)\n",
    "            - X: [x_1, x_2, ... , x_n] numpy array with points x_1 \\in R^d as row vectors.\n",
    "        output: \n",
    "            - K: Vector valued covariance matrix with jth row [Kern(x_j, x_0), ... , K(x_j, x_n)]\n",
    "    '''\n",
    "    npts = len(X)\n",
    "    nd = len(Mats[0])\n",
    "\n",
    "    K  = np.identity(npts * nd)\n",
    "    \n",
    "    nMat = 0\n",
    "    for r in range(0, npts*nd , nd):\n",
    "        for c in range(0, npts*nd, nd):\n",
    "            K[r:(r+2), c:(c+2)] = Mats[nMat]\n",
    "            nMat = nMat + 1\n",
    "            \n",
    "            \n",
    "    return(K)"
   ]
  },
  {
   "cell_type": "code",
   "execution_count": 30,
   "metadata": {},
   "outputs": [
    {
     "data": {
      "text/plain": [
       "array([[1., 2.],\n",
       "       [0., 2.],\n",
       "       [1., 0.]])"
      ]
     },
     "execution_count": 30,
     "metadata": {},
     "output_type": "execute_result"
    }
   ],
   "source": [
    "X = np.array([[1., 2.], [0., 2.], [1., 0.]])\n",
    "X"
   ]
  },
  {
   "cell_type": "code",
   "execution_count": 31,
   "metadata": {
    "collapsed": true
   },
   "outputs": [],
   "source": [
    "Mats = covarianceMats(X, divFreeKern)"
   ]
  },
  {
   "cell_type": "code",
   "execution_count": 32,
   "metadata": {
    "collapsed": true
   },
   "outputs": [],
   "source": [
    "IK = kMat(Mats, X)"
   ]
  },
  {
   "cell_type": "code",
   "execution_count": 33,
   "metadata": {},
   "outputs": [
    {
     "data": {
      "image/png": "[encoded data removed]",
      "text/plain": [
       "<Figure size 288x288 with 1 Axes>"
      ]
     },
     "metadata": {
      "needs_background": "light"
     },
     "output_type": "display_data"
    }
   ],
   "source": [
    "plt.matshow(IK)\n",
    "plt.show()"
   ]
  },
  {
   "cell_type": "code",
   "execution_count": 24,
   "metadata": {
    "collapsed": true
   },
   "outputs": [],
   "source": [
    "np.random.seed(0)\n",
    "npts = len(X)\n",
    "\n",
    "mu = np.zeros(2*npts)\n",
    "Z = np.random.multivariate_normal(mu, IK, 1)"
   ]
  },
  {
   "cell_type": "code",
   "execution_count": 25,
   "metadata": {},
   "outputs": [
    {
     "data": {
      "text/plain": [
       "array([[-1.66971669, -0.60476295, -0.99798151, -0.1047281 , -0.63440065,\n",
       "         2.46072433, -2.11010126, -1.28572122]])"
      ]
     },
     "execution_count": 25,
     "metadata": {},
     "output_type": "execute_result"
    }
   ],
   "source": [
    "Z"
   ]
  }
 ],
 "metadata": {
  "kernelspec": {
   "display_name": "Python 3",
   "language": "python",
   "name": "python3"
  },
  "language_info": {
   "codemirror_mode": {
    "name": "ipython",
    "version": 3
   },
   "file_extension": ".py",
   "mimetype": "text/x-python",
   "name": "python",
   "nbconvert_exporter": "python",
   "pygments_lexer": "ipython3",
   "version": "3.6.2"
  }
 },
 "nbformat": 4,
 "nbformat_minor": 2
}
