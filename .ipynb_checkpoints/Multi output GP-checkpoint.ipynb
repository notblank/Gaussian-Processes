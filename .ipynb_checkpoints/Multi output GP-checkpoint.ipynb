{
 "cells": [
  {
   "cell_type": "code",
   "execution_count": 1,
   "metadata": {
    "collapsed": true
   },
   "outputs": [],
   "source": [
    "import GPy\n",
    "import numpy as np\n",
    "import matplotlib.pyplot as plt\n",
    "\n",
    "from scipy.linalg import toeplitz"
   ]
  },
  {
   "cell_type": "markdown",
   "metadata": {},
   "source": [
    "# Vector Fields with Independent Coordinates\n",
    "\n",
    "$$\n",
    "\\Large f : \\mathbb{R} \\mapsto \\mathbb{R}^2 \n",
    "$$\n",
    "\n",
    "so\n",
    "\n",
    "$$ \n",
    "f(t) = \\begin{bmatrix} f_1(t) \\\\ f_2(t) \\end{bmatrix}\n",
    "$$\n",
    "\n",
    "is a Gaussian process with covariance: \n",
    "\n",
    "$$ \n",
    "Cov\\left( \\begin{bmatrix} f_1(x) \\\\ f_2(x) \\end{bmatrix}, \\begin{bmatrix} f_1(y) \\\\ f_2(y) \\end{bmatrix} \\right) \\\n",
    "                = \n",
    "                \\begin{bmatrix} \n",
    "                    Cov\\left(f_1(x), f_1(y)\\right) & Cov\\left(f_1(x), f_2(y)\\right) \\\\ \n",
    "                    Cov\\left(f_2(x), f_1(y)\\right) & Cov\\left(f_2(y), f_2(y)\\right) \n",
    "                \\end{bmatrix} \n",
    "$$\n",
    "\n",
    "Where $Cov : \\mathbb{R}\\times \\mathbb{R} \\mapsto \\mathbb{R}^{2\\times 2}$.\n",
    "\n",
    "### What is the joint distribution of $[ f(s), f(t) ]$? \n",
    "Lets assume that the joint distribution is Gaussian too. Also assume that the vector has zero mean. Then, it is entierly defined by the covariance: \n",
    "\n",
    "$$ K = \n",
    "\\begin{bmatrix}\n",
    "Cov(f(s), f(s)) & Cov(f(s), f(t)) \\\\\n",
    "Cov(f(t), f(s)) & Cov(f(t), f(t)) \n",
    "\\end{bmatrix}\n",
    "$$\n",
    "\n",
    "when: \n",
    "\n",
    "$$ \n",
    "\\begin{bmatrix} f(s) \\\\ f(t) \\end{bmatrix} =\n",
    "\\begin{bmatrix} f_1(s) \\\\ f_2(s) \\\\ f_1(t) \\\\ f_2(t) \\end{bmatrix}\n",
    "$$"
   ]
  },
  {
   "cell_type": "markdown",
   "metadata": {},
   "source": [
    "In terms of the coordinates of $f$, $K$ is: \n",
    "\n",
    "$$ K = \n",
    "\t\\left[\n",
    "\t\\begin{array}{cc|cc}\n",
    "        Cov(f_1(s), f_1(s)) & Cov(f_1(s), f_2(s)) & Cov(f_1(s), f_1(t)) & Cov(f_1(s), f_2(t)) \\\\\n",
    "        Cov(f_2(s), f_1(s)) & Cov(f_2(s), f_2(s)) & Cov(f_2(s), f_1(t)) & Cov(f_2(s), f_2(t)) \\\\\n",
    "        \\hline\n",
    "        Cov(f_1(t), f_1(s)) & Cov(f_1(t), f_2(s)) & Cov(f_1(t), f_1(t)) & Cov(f_1(t), f_2(t)) \\\\\n",
    "        Cov(f_2(t), f_1(s)) & Cov(f_2(t), f_2(s)) & Cov(f_2(t), f_1(t)) & Cov(f_2(t), f_2(t)) \\\\\n",
    "\t\\end{array}\n",
    "\t\\right]\n",
    "$$\n",
    "\n",
    "There are two types of terms in $K$:\n",
    "\n",
    "- $Cov(f_1(s), f_2(s))$ where the covariance models the dependence between coordinates at the same input time $s$.\n",
    "- $Cov(f_1(s), f_2(t))$ that models the dependence between coordinates at different inputs $s$ and $t$.\n",
    "\n",
    "It is possible to assume, for example, that the coordinates are independent. In that case it is convenient to rearange the vector as:\n",
    "\n",
    "$$ \\begin{bmatrix} f_1(s) \\\\ f_1(t) \\\\ f_2(s) \\\\ f_2(t) \\end{bmatrix} $$\n",
    "\n",
    "so that the covariance matrix becomes block-diagonal: \n",
    "\n",
    "$$ K = \n",
    "\t\\left[\n",
    "\t\\begin{array}{cc|cc}\n",
    "        Cov(f_1(s), f_1(s)) & Cov(f_1(s), f_1(t)) & 0 & 0 \\\\\n",
    "        Cov(f_1(t), f_1(s)) & Cov(f_1(t), f_1(t)) & 0 & 0\\\\\n",
    "        \\hline\n",
    "        0 & 0 & Cov(f_2(s), f_2(s)) & Cov(f_2(s), f_2(t)) \\\\\n",
    "        0 & 0 & Cov(f_2(t), f_2(s)) & Cov(f_2(t), f_2(t)) \\\\\n",
    "\t\\end{array}\n",
    "\t\\right]\n",
    "$$\n",
    "\n",
    "Each diagonal block models the covariance structure for each coordinate over time. \n",
    "\n",
    "The off diagonal terms - which are $0$ here - model the dependence between coordinates. "
   ]
  },
  {
   "cell_type": "code",
   "execution_count": 2,
   "metadata": {
    "collapsed": true
   },
   "outputs": [],
   "source": [
    "k1 = GPy.kern.RBF(input_dim=1,lengthscale=0.2)\n",
    "k2 = GPy.kern.Matern32(1, 0.5, 0.2)\n",
    "\n",
    "nt = 50 \n",
    "m = 20 \n",
    "\n",
    "t = np.linspace(0.,1.,nt)\n",
    "t = t[:,None]\n",
    "\n",
    "mu = np.zeros((nt+nt))\n",
    "\n",
    "C1 = k1.K(t,t)\n",
    "C2 = k2.K(t,t)\n",
    "\n",
    "C = np.kron([[1,0],[0,0]], C1) + np.kron([[0,0],[0,1]], C2)"
   ]
  },
  {
   "cell_type": "code",
   "execution_count": 3,
   "metadata": {},
   "outputs": [
    {
     "data": {
      "image/png": "[encoded data removed]",
      "text/plain": [
       "<matplotlib.figure.Figure at 0xee32346550>"
      ]
     },
     "metadata": {},
     "output_type": "display_data"
    }
   ],
   "source": [
    "plt.matshow(C)\n",
    "plt.show()"
   ]
  },
  {
   "cell_type": "code",
   "execution_count": 4,
   "metadata": {},
   "outputs": [
    {
     "data": {
      "image/png": "[encoded data removed]",
      "text/plain": [
       "<matplotlib.figure.Figure at 0xee320b33c8>"
      ]
     },
     "metadata": {},
     "output_type": "display_data"
    },
    {
     "data": {
      "image/png": "[encoded data removed]",
      "text/plain": [
       "<matplotlib.figure.Figure at 0xee48294dd8>"
      ]
     },
     "metadata": {},
     "output_type": "display_data"
    }
   ],
   "source": [
    "np.random.seed(0)\n",
    "\n",
    "Z = np.random.multivariate_normal(mu,C,m)\n",
    "Z = Z.T\n",
    "plt.figure(1) # open new plotting window\n",
    "for i in range(5):\n",
    "    plt.plot(t,Z[0:nt,i])\n",
    "plt.show()\n",
    "\n",
    "plt.figure(2) # open new plotting window\n",
    "for i in range(5):\n",
    "    plt.plot(t,Z[nt:nt+nt,i])\n",
    "plt.show()"
   ]
  },
  {
   "cell_type": "code",
   "execution_count": 5,
   "metadata": {},
   "outputs": [
    {
     "data": {
      "image/png": "[encoded data removed]",
      "text/plain": [
       "<matplotlib.figure.Figure at 0xee4832fb70>"
      ]
     },
     "metadata": {},
     "output_type": "display_data"
    }
   ],
   "source": [
    "for i in range(5):\n",
    "        \n",
    "    a = Z[0:nt, i]\n",
    "    b = Z[nt:nt+nt, i]\n",
    "\n",
    "    plt.plot(a, b)\n",
    "    plt.plot(a[0], b[0], 'r.')\n",
    "\n",
    "plt.show()"
   ]
  },
  {
   "cell_type": "markdown",
   "metadata": {
    "collapsed": true
   },
   "source": [
    "# $\\mathbb{R}^2 \\rightarrow \\mathbb{R}^2$ Process\n",
    "\n",
    "with independent coordinates"
   ]
  },
  {
   "cell_type": "code",
   "execution_count": 6,
   "metadata": {
    "collapsed": true
   },
   "outputs": [],
   "source": [
    "d = 2\n",
    "nxGrid = 6\n",
    "\n",
    "x = np.linspace(0., 1., nxGrid)\n",
    "y = np.linspace(0., 1., nxGrid)\n",
    "\n",
    "L = []\n",
    "for i in range(nxGrid):\n",
    "    for j in range(nxGrid):\n",
    "        L.append([x[i], y[j]])\n",
    "\n",
    "X = np.reshape(L, (nxGrid*nxGrid, d))"
   ]
  },
  {
   "cell_type": "code",
   "execution_count": 7,
   "metadata": {},
   "outputs": [
    {
     "data": {
      "image/png": "[encoded data removed]",
      "text/plain": [
       "<matplotlib.figure.Figure at 0xee4832f940>"
      ]
     },
     "metadata": {},
     "output_type": "display_data"
    }
   ],
   "source": [
    "k = GPy.kern.RBF(input_dim=2, lengthscale=0.2)\n",
    "\n",
    "S = k.K(X, X)\n",
    "Sigma = np.kron([[1,0],[0,1]], S)\n",
    "\n",
    "plt.matshow(Sigma)\n",
    "plt.show()"
   ]
  },
  {
   "cell_type": "code",
   "execution_count": 8,
   "metadata": {
    "collapsed": true
   },
   "outputs": [],
   "source": [
    "np.random.seed(0)\n",
    "\n",
    "mu = np.zeros(d*nxGrid*nxGrid)\n",
    "Z = np.random.multivariate_normal(mu, Sigma, 2)"
   ]
  },
  {
   "cell_type": "code",
   "execution_count": 9,
   "metadata": {
    "collapsed": true
   },
   "outputs": [],
   "source": [
    "dx0 = Z[0][0:nxGrid*nxGrid]\n",
    "dy0 = Z[0][nxGrid*nxGrid:d*nxGrid*nxGrid]\n",
    "\n",
    "dx1 = Z[1][0:nxGrid*nxGrid]\n",
    "dy1 = Z[1][nxGrid*nxGrid:d*nxGrid*nxGrid]"
   ]
  },
  {
   "cell_type": "code",
   "execution_count": 10,
   "metadata": {},
   "outputs": [
    {
     "data": {
      "image/png": "[encoded data removed]",
      "text/plain": [
       "<matplotlib.figure.Figure at 0xee48494be0>"
      ]
     },
     "metadata": {},
     "output_type": "display_data"
    }
   ],
   "source": [
    "# https://stackoverflow.com/questions/25342072/computing-and-drawing-vector-fields\n",
    "xx, yy = np.meshgrid(x, x)\n",
    "\n",
    "\n",
    "fig, (ax0, ax1) = plt.subplots(1, 2)\n",
    "\n",
    "ax0.quiver(xx, yy, dx0, dy0)\n",
    "ax1.quiver(xx, yy, dx1, dy1)\n",
    "\n",
    "plt.suptitle('Two Random Vector Fields \\n with Independet Coordinates')\n",
    "plt.show()"
   ]
  },
  {
   "cell_type": "markdown",
   "metadata": {},
   "source": [
    "# $\\mathbb{R}^2 \\rightarrow \\mathbb{R}^2$ Process\n",
    "\n",
    "with dependent coordinates\n",
    "\n",
    "\n",
    "$$ \n",
    "f(x) = \n",
    "\\begin{bmatrix}\n",
    "f_1(x) \\\\\n",
    "f_2(x)\n",
    "\\end{bmatrix}\n",
    "$$\n",
    "\n",
    "where $f_1(x) = a_1 u(x)$, $f_2(x) = a_2 u(x)$ and $u(x) \\sim \\mathcal{GP}\\left(0, k(x, x)\\right)$.\n",
    "\n",
    "The covariance matrix of $f(x)$ is:\n",
    "\n",
    "$$ \n",
    "K = \n",
    "    \\begin{bmatrix}\n",
    "    a_1^2 Cov(u(x), u(x)) & a_1 a_2 Cov(u(x), u(x)) \\\\\n",
    "    a_2 a_1 Cov(u(x), u(x)) & a_2^2 Cov(u(x), u(x)) \\\\\n",
    "    \\end{bmatrix}\n",
    "  = k(x, x) \\left( \\begin{bmatrix} a_1 \\\\ a_2\\end{bmatrix} \\begin{bmatrix} a_1 & a_2 \\end{bmatrix} \\right) = k(x, x) aa^T\n",
    "$$\n",
    "\n",
    "So the covariance matrix over n inputs $x_1, ... , x_n$ is:\n",
    "\n",
    "$$ \n",
    "\\begin{bmatrix} \n",
    "k(x_1, x_1) a a^T & \\cdots & k(x_1, x_n)  a a^T\\\\\n",
    "\\vdots & \\ddots & \\vdots \\\\\n",
    "k(x_n, x_1) a a^T & \\cdots & k(x_n, x_n)  a a^T\n",
    "\\end{bmatrix} \n",
    " =:\n",
    "\\begin{bmatrix} \n",
    "k(x_1, x_1) & \\cdots & k(x_1, x_n) \\\\\n",
    "\\vdots & \\ddots & \\vdots \\\\\n",
    "k(x_n, x_1) & \\cdots & k(x_n, x_n)\n",
    "\\end{bmatrix} \\otimes a a^T\n",
    "$$"
   ]
  },
  {
   "cell_type": "code",
   "execution_count": 11,
   "metadata": {
    "collapsed": true
   },
   "outputs": [],
   "source": [
    "d = 2\n",
    "nxGrid = 6\n",
    "\n",
    "x = np.linspace(0., 1., nxGrid)\n",
    "y = np.linspace(0., 1., nxGrid)\n",
    "\n",
    "L = []\n",
    "for i in range(nxGrid):\n",
    "    for j in range(nxGrid):\n",
    "        L.append([x[i], y[j]])\n",
    "\n",
    "X = np.reshape(L, (nxGrid*nxGrid, d))"
   ]
  },
  {
   "cell_type": "code",
   "execution_count": 12,
   "metadata": {
    "collapsed": true
   },
   "outputs": [],
   "source": [
    "k = GPy.kern.RBF(input_dim=2, lengthscale=0.2)\n",
    "Sigma = k.K(X, X)"
   ]
  },
  {
   "cell_type": "code",
   "execution_count": 13,
   "metadata": {},
   "outputs": [
    {
     "data": {
      "image/png": "[encoded data removed]",
      "text/plain": [
       "<matplotlib.figure.Figure at 0xee4899db38>"
      ]
     },
     "metadata": {},
     "output_type": "display_data"
    },
    {
     "data": {
      "text/plain": [
       "(72, 72)"
      ]
     },
     "execution_count": 13,
     "metadata": {},
     "output_type": "execute_result"
    }
   ],
   "source": [
    "a1 = 2\n",
    "a2 = 1\n",
    "\n",
    "a = np.array([[a1], [a2]])\n",
    "\n",
    "K = np.kron(Sigma, a.dot(a.T))\n",
    "\n",
    "plt.matshow(K)\n",
    "plt.show()\n",
    "\n",
    "K.shape\n",
    "\n",
    "# np.kron(np.eye(2), a.dot(a.T))"
   ]
  },
  {
   "cell_type": "code",
   "execution_count": 14,
   "metadata": {
    "collapsed": true
   },
   "outputs": [],
   "source": [
    "np.random.seed(0)\n",
    "\n",
    "mu = np.zeros(d*nxGrid*nxGrid)\n",
    "Z = np.random.multivariate_normal(mu, K, 2)"
   ]
  },
  {
   "cell_type": "code",
   "execution_count": 15,
   "metadata": {},
   "outputs": [
    {
     "data": {
      "image/png": "[encoded data removed]",
      "text/plain": [
       "<matplotlib.figure.Figure at 0xee48a868d0>"
      ]
     },
     "metadata": {},
     "output_type": "display_data"
    }
   ],
   "source": [
    "dx0 = Z[0][0:nxGrid*nxGrid]\n",
    "dy0 = Z[0][nxGrid*nxGrid:d*nxGrid*nxGrid]\n",
    "\n",
    "dx1 = Z[1][0:nxGrid*nxGrid]\n",
    "dy1 = Z[1][nxGrid*nxGrid:d*nxGrid*nxGrid]\n",
    "\n",
    "xx, yy = np.meshgrid(x, x)\n",
    "\n",
    "\n",
    "fig, (ax0, ax1) = plt.subplots(1, 2)\n",
    "\n",
    "ax0.quiver(xx, yy, dx0, dy0)\n",
    "ax1.quiver(xx, yy, dx1, dy1)\n",
    "\n",
    "plt.suptitle('Two Random Vector Fields \\n with Dependent Coordinates')\n",
    "plt.show()"
   ]
  },
  {
   "cell_type": "markdown",
   "metadata": {},
   "source": [
    "## $\\nabla \\cdot F = 0$ (In progress) \n",
    "\n",
    "$$ \\Large\n",
    "k_{div}(x, y) = \n",
    "\\begin{bmatrix}\n",
    "\\partial_{y_2 y_2} & -\\partial_{x_2 y_1} \\\\\n",
    "-\\partial_{x_1 y_2} & \\partial_{x_1 x_1} \\\\\n",
    "\\end{bmatrix}\n",
    "k(x, y)\n",
    "$$\n",
    "\n",
    "with $x = [x_1, x_2]$ and $y = [y_1, y_2]\\in \\mathbb{R}^2$.\n",
    "\n",
    "For the squared exponential kernel: \n",
    "\n",
    "\n",
    "$$ \n",
    "\\partial_{x_1 x_1} k(x, y) = \\left( \\dfrac{(x_1 - y_1)^2}{l^2} - \\dfrac{1}{l} \\right) e^{-\\dfrac{(x - y)^2}{2l}} \n",
    "$$\n",
    "\n",
    "for tthe same coordinate and\n",
    "\n",
    "$$ \n",
    "\\partial_{x_1 y_2} k(x, y) =  \\left( \\dfrac{(x_1 - y_1)}{l}\\dfrac{(x_2 - y_2)}{l} \\right)  e^{-\\dfrac{(x - y)^2}{2l}} \n",
    "$$\n",
    "\n",
    "for coordinates of different vectors. \n",
    "\n",
    "The matrix is \n",
    "\n",
    "$$ \n",
    "K_{div}(x, y) = \n",
    "\\begin{bmatrix}\n",
    "\\left( \\dfrac{(x_2 - y_2)^2}{l^2} - \\dfrac{1}{l} \\right) & - \\left( \\dfrac{(x_2 - y_2)}{l}\\dfrac{(x_1 - y_1)}{l} \\right) \\\\\n",
    "- \\left( \\dfrac{(x_1 - y_1)}{l}\\dfrac{(x_2 - y_2)}{l} \\right) & \\left( \\dfrac{(x_1 - y_1)^2}{l^2} - \\dfrac{1}{l} \\right) \\\\\n",
    "\\end{bmatrix}\n",
    "e^{-\\dfrac{(x - y)^2}{2l}} \n",
    "$$\n",
    "\n",
    "$$\n",
    "K_{div}(x, y) = \\left(\n",
    "\\begin{bmatrix}\n",
    "\\left( \\dfrac{(x_2 - y_2)^2}{l^2} \\right) & - \\left( \\dfrac{(x_2 - y_2)}{l}\\dfrac{(x_1 - y_1)}{l} \\right) \\\\\n",
    "- \\left( \\dfrac{(x_1 - y_1)}{l}\\dfrac{(x_2 - y_2)}{l} \\right) & \\left( \\dfrac{(x_1 - y_1)^2}{l^2} \\right) \\\\\n",
    "\\end{bmatrix}\n",
    "- \\dfrac{1}{l}\n",
    "\\begin{bmatrix}\n",
    " 1 & 0 \\\\\n",
    "0 &  1\n",
    "\\end{bmatrix} \\right) e^{-\\dfrac{(x - y)^2}{2l}} \n",
    "$$\n",
    "\n",
    "$$\n",
    "K_{div}(x, y) = \\left( (dd^T)_T \\times_e \\begin{bmatrix} 1 & -1 \\\\ -1 & 1 \\end{bmatrix}- \\dfrac{1}{l} I_2 \\right)\n",
    "e^{-\\dfrac{(x - y)^2}{2l}}\n",
    "$$\n",
    "\n",
    "Where $\\times_e$ is the elementwise multiplication and\n",
    "\n",
    "$$ \n",
    "(dd^T)_T = \\left( \\dfrac{(x - y)}{l}\\dfrac{(x - y)}{l}^T \\right)_T\n",
    "$$\n",
    "\n",
    "and $(A)_T$ is the transpose with respect to the anti-diagonal. "
   ]
  },
  {
   "cell_type": "code",
   "execution_count": 16,
   "metadata": {},
   "outputs": [
    {
     "data": {
      "image/png": "[encoded data removed]",
      "text/plain": [
       "<matplotlib.figure.Figure at 0xee489e0908>"
      ]
     },
     "metadata": {},
     "output_type": "display_data"
    }
   ],
   "source": [
    "A = np.array([[10, 10, 20], [10, 20, 30], [20, 30, 30]])\n",
    "A_T = np.rot90(A,2).T\n",
    "\n",
    "plt.subplot(1, 2, 1)\n",
    "plt.imshow(A)\n",
    "plt.title('$A$')\n",
    "plt.subplot(1, 2, 2)\n",
    "plt.imshow(A_T)\n",
    "plt.title('$A_T$')\n",
    "plt.show()"
   ]
  },
  {
   "cell_type": "code",
   "execution_count": 17,
   "metadata": {
    "collapsed": true
   },
   "outputs": [],
   "source": [
    "def divFreeKern(x, y):\n",
    "    '''\n",
    "    input: \n",
    "        - x and y two row vectors in R^n.\n",
    "    output: \n",
    "        - k(x, y) div free kernel R^nxn matrix.\n",
    "    '''\n",
    "    \n",
    "    n = len(x)\n",
    "    d = x - y\n",
    "    normd = np.sum(d**2/2)\n",
    "    T1 = np.e**normd\n",
    "    \n",
    "    In = np.eye(n, n)\n",
    "    v = np.reshape(d, (n, 1))\n",
    "    vt = np.transpose(v)\n",
    "    ddT = v.dot(vt)\n",
    "    \n",
    "    nod = np.repeat(1, n)\n",
    "    nod[1:n] = -1\n",
    "    NOD = toeplitz(nod)\n",
    "    \n",
    "    T2 = NOD*np.rot90(ddT,2).T - In \n",
    "    \n",
    "    return(T1*T2)"
   ]
  },
  {
   "cell_type": "code",
   "execution_count": 18,
   "metadata": {},
   "outputs": [
    {
     "data": {
      "text/plain": [
       "array([-0.5,  0.5])"
      ]
     },
     "execution_count": 18,
     "metadata": {},
     "output_type": "execute_result"
    }
   ],
   "source": [
    "X = np.array([[-0.5, 0.5], [0.5, -0.5]])\n",
    "X[0]\n",
    "\n",
    "#d = 2\n",
    "#nxGrid = 3\n",
    "\n",
    "#x = np.linspace(0., 1., nxGrid)\n",
    "#y = np.linspace(0., 1., nxGrid)\n",
    "\n",
    "#L = []\n",
    "#for i in range(nxGrid):\n",
    "#    for j in range(nxGrid):\n",
    "#        L.append([x[i], y[j]])\n",
    "\n",
    "#X = np.reshape(L, (nxGrid*nxGrid, d))"
   ]
  },
  {
   "cell_type": "code",
   "execution_count": 19,
   "metadata": {},
   "outputs": [
    {
     "name": "stdout",
     "output_type": "stream",
     "text": [
      "[[0.         2.71828183]\n",
      " [2.71828183 0.        ]] \n",
      " [[0.         2.71828183]\n",
      " [2.71828183 0.        ]]\n"
     ]
    }
   ],
   "source": [
    "print(divFreeKern(X[0], X[1]), '\\n', divFreeKern(X[1], X[0]))"
   ]
  },
  {
   "cell_type": "code",
   "execution_count": 20,
   "metadata": {
    "collapsed": true
   },
   "outputs": [],
   "source": [
    "npoints = X.shape[0]\n",
    "\n",
    "K = {}\n",
    "\n",
    "for i in range(npoints):\n",
    "    for j in range(npoints):\n",
    "        dicIndex = str(i) + str(j)  \n",
    "        K[dicIndex] = divFreeKern(X[i], X[j])\n",
    "        "
   ]
  },
  {
   "cell_type": "code",
   "execution_count": 21,
   "metadata": {},
   "outputs": [
    {
     "data": {
      "text/plain": [
       "4"
      ]
     },
     "execution_count": 21,
     "metadata": {},
     "output_type": "execute_result"
    }
   ],
   "source": [
    "len(K)"
   ]
  },
  {
   "cell_type": "code",
   "execution_count": 22,
   "metadata": {},
   "outputs": [
    {
     "data": {
      "text/plain": [
       "{'00': array([[-1., -0.],\n",
       "        [-0., -1.]]), '01': array([[0.        , 2.71828183],\n",
       "        [2.71828183, 0.        ]]), '10': array([[0.        , 2.71828183],\n",
       "        [2.71828183, 0.        ]]), '11': array([[-1., -0.],\n",
       "        [-0., -1.]])}"
      ]
     },
     "execution_count": 22,
     "metadata": {},
     "output_type": "execute_result"
    }
   ],
   "source": [
    "K"
   ]
  },
  {
   "cell_type": "code",
   "execution_count": 35,
   "metadata": {
    "collapsed": true
   },
   "outputs": [],
   "source": [
    "# use a different arrangement on the vector of observations [x, y, z] instead of coordiante wise order. \n",
    "# In that sense the cov mat is [[Kxx, Kxy, Kxz], [Kyx, Kyy, Kyz], [Kzx, Kzy, Kzz]]\n",
    "\n",
    "divFreeK = np.zeros((2*npoints, 2*npoints))\n",
    "# np.diag([1, 2, 3, 4])"
   ]
  },
  {
   "cell_type": "code",
   "execution_count": 38,
   "metadata": {},
   "outputs": [
    {
     "name": "stdout",
     "output_type": "stream",
     "text": [
      "2\n",
      "4\n"
     ]
    },
    {
     "data": {
      "text/plain": [
       "array([[1, 0],\n",
       "       [0, 2]])"
      ]
     },
     "execution_count": 38,
     "metadata": {},
     "output_type": "execute_result"
    }
   ],
   "source": [
    "for i in range(2, 2*npoints+1, 2):\n",
    "    SM = np.ix_(np.arange(0, 2), np.arange(0, 2))\n",
    "    divFreeK[SM]"
   ]
  },
  {
   "cell_type": "code",
   "execution_count": null,
   "metadata": {
    "collapsed": true
   },
   "outputs": [],
   "source": []
  },
  {
   "cell_type": "code",
   "execution_count": 43,
   "metadata": {
    "collapsed": true
   },
   "outputs": [],
   "source": [
    "divFreeK = np.zeros((2*npoints, 2*npoints))\n",
    "\n",
    "for k in K:\n",
    "    i = int(list(k)[0])\n",
    "    j = int(list(k)[1])\n",
    "    \n",
    "    iSM = np.where( (np.arange(1, 2*npoints + 1) % npoints) == ( (i + 1) % npoints))[0]\n",
    "    jSM = np.where( (np.arange(1, 2*npoints + 1) % npoints) == ( (j + 1) % npoints))[0]\n",
    "    # print(i, iSM, '\\n', j, jSM)\n",
    "\n",
    "    SM = np.ix_(iSM, jSM)\n",
    "    divFreeK[SM] = K[k]"
   ]
  },
  {
   "cell_type": "code",
   "execution_count": 44,
   "metadata": {},
   "outputs": [
    {
     "data": {
      "text/plain": [
       "(4, 4)"
      ]
     },
     "execution_count": 44,
     "metadata": {},
     "output_type": "execute_result"
    }
   ],
   "source": [
    "divFreeK.shape"
   ]
  },
  {
   "cell_type": "code",
   "execution_count": 45,
   "metadata": {},
   "outputs": [
    {
     "data": {
      "text/plain": [
       "array([[-1., -0.],\n",
       "       [-0., -1.]])"
      ]
     },
     "execution_count": 45,
     "metadata": {},
     "output_type": "execute_result"
    }
   ],
   "source": [
    "K['00']"
   ]
  },
  {
   "cell_type": "code",
   "execution_count": 46,
   "metadata": {},
   "outputs": [
    {
     "data": {
      "text/plain": [
       "(array([ 1.71828183, -3.71828183,  1.71828183, -3.71828183]),\n",
       " array([[ 0.70710678,  0.70710678,  0.        ,  0.        ],\n",
       "        [ 0.        ,  0.        ,  0.70710678, -0.70710678],\n",
       "        [ 0.        ,  0.        ,  0.70710678,  0.70710678],\n",
       "        [ 0.70710678, -0.70710678,  0.        ,  0.        ]]))"
      ]
     },
     "execution_count": 46,
     "metadata": {},
     "output_type": "execute_result"
    }
   ],
   "source": [
    "np.linalg.eig(divFreeK)"
   ]
  },
  {
   "cell_type": "code",
   "execution_count": 187,
   "metadata": {},
   "outputs": [
    {
     "data": {
      "image/png": "[encoded data removed]",
      "text/plain": [
       "<matplotlib.figure.Figure at 0x29a5367080>"
      ]
     },
     "metadata": {},
     "output_type": "display_data"
    }
   ],
   "source": [
    "plt.matshow(divFreeK)\n",
    "plt.show()"
   ]
  },
  {
   "cell_type": "code",
   "execution_count": 188,
   "metadata": {},
   "outputs": [
    {
     "name": "stderr",
     "output_type": "stream",
     "text": [
      " C:\\Users\\Personal\\Anaconda3\\lib\\site-packages\\ipykernel_launcher.py:4: RuntimeWarning:covariance is not positive-semidefinite.\n"
     ]
    }
   ],
   "source": [
    "np.random.seed(0)\n",
    "\n",
    "mu = np.zeros(2*npoints)\n",
    "Z = np.random.multivariate_normal(mu, divFreeK, 2)"
   ]
  },
  {
   "cell_type": "code",
   "execution_count": 189,
   "metadata": {},
   "outputs": [
    {
     "data": {
      "image/png": "[encoded data removed]",
      "text/plain": [
       "<matplotlib.figure.Figure at 0x29a48a2fd0>"
      ]
     },
     "metadata": {},
     "output_type": "display_data"
    }
   ],
   "source": [
    "dx0 = Z[0][0:npoints]\n",
    "dy0 = Z[0][npoints:2*npoints]\n",
    "\n",
    "dx1 = Z[1][0:npoints]\n",
    "dy1 = Z[1][npoints:2*npoints]\n",
    "\n",
    "xx, yy = np.meshgrid(x, x)\n",
    "\n",
    "fig, (ax0, ax1) = plt.subplots(1, 2)\n",
    "\n",
    "ax0.quiver(xx, yy, dx0, dy0)\n",
    "ax1.quiver(xx, yy, dx1, dy1)\n",
    "\n",
    "plt.suptitle('Two Random Vector Fields \\n with div = 0')\n",
    "plt.show()"
   ]
  },
  {
   "cell_type": "code",
   "execution_count": null,
   "metadata": {
    "collapsed": true
   },
   "outputs": [],
   "source": []
  },
  {
   "cell_type": "code",
   "execution_count": null,
   "metadata": {
    "collapsed": true
   },
   "outputs": [],
   "source": []
  },
  {
   "cell_type": "code",
   "execution_count": null,
   "metadata": {
    "collapsed": true
   },
   "outputs": [],
   "source": []
  },
  {
   "cell_type": "code",
   "execution_count": null,
   "metadata": {
    "collapsed": true
   },
   "outputs": [],
   "source": []
  },
  {
   "cell_type": "markdown",
   "metadata": {
    "collapsed": true
   },
   "source": [
    "## $\\nabla \\times F = 0$ (In progress) \n",
    "\n",
    "$$\n",
    "K_{curl}(x, x') = \\underbrace{ \\dfrac{\\sigma_f^2}{l^2} e^{-\\dfrac{\\|x - x'\\|^2}{2l^2}} }_{T_1}\n",
    "    \\underbrace{ \\left( I_n - \\left(\\dfrac{x - x'}{l} \\right) \\left( \\dfrac{x - x'}{l} \\right)^t \\right)}_{T_2}\n",
    "$$\n",
    "\n",
    "with $x \\in \\mathbb{R}^n$."
   ]
  },
  {
   "cell_type": "code",
   "execution_count": null,
   "metadata": {
    "collapsed": true
   },
   "outputs": [],
   "source": [
    "def curlFreeKern(x, y):\n",
    "    '''\n",
    "    input: \n",
    "        - x and y two row vectors in R^n.\n",
    "    output: \n",
    "        - k(x, y) div free kernel R^nxn matrix.\n",
    "    '''\n",
    "    \n",
    "    n = len(x)\n",
    "    d = x - y\n",
    "    normd = np.sum(d**2/2)\n",
    "    T1 = np.e**normd\n",
    "    \n",
    "    In = np.eye(n, n)\n",
    "    v = np.reshape(d, (n, 1))\n",
    "    vt = np.transpose(v)\n",
    "    T2 = In - v.dot(vt)\n",
    "    \n",
    "    return(T1*T2)"
   ]
  },
  {
   "cell_type": "markdown",
   "metadata": {},
   "source": [
    "# Symbolic Derivation (In progress)"
   ]
  },
  {
   "cell_type": "code",
   "execution_count": 22,
   "metadata": {
    "collapsed": true
   },
   "outputs": [],
   "source": [
    "# http://docs.sympy.org/latest/tutorial/preliminaries.html\n",
    "# see the derivatives notebook too, in sage. \n",
    "import sympy "
   ]
  },
  {
   "cell_type": "code",
   "execution_count": null,
   "metadata": {
    "collapsed": true
   },
   "outputs": [],
   "source": []
  }
 ],
 "metadata": {
  "kernelspec": {
   "display_name": "Python 3",
   "language": "python",
   "name": "python3"
  },
  "language_info": {
   "codemirror_mode": {
    "name": "ipython",
    "version": 3
   },
   "file_extension": ".py",
   "mimetype": "text/x-python",
   "name": "python",
   "nbconvert_exporter": "python",
   "pygments_lexer": "ipython3",
   "version": "3.6.2"
  }
 },
 "nbformat": 4,
 "nbformat_minor": 2
}
